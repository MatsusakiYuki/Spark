{
 "cells": [
  {
   "cell_type": "markdown",
   "metadata": {},
   "source": [
    "## A. Create Spark Session and Loading the Data\n",
    "### Step 01: Import Spark Session and Initialize Spark"
   ]
  },
  {
   "cell_type": "code",
   "execution_count": 2,
   "metadata": {},
   "outputs": [],
   "source": [
    "# import spark session\n",
    "from pyspark.sql import SparkSession # Spark SQL\n",
    "from pyspark.sql.functions import *\n",
    "from pyspark.sql import functions as F\n",
    "\n",
    "#initialize spark\n",
    "spark_Session = SparkSession.builder.master(\"local[4]\").appName(\"mySpark\").getOrCreate()\n"
   ]
  },
  {
   "cell_type": "code",
   "execution_count": 3,
   "metadata": {},
   "outputs": [
    {
     "data": {
      "text/html": [
       "\n",
       "            <div>\n",
       "                <p><b>SparkSession - in-memory</b></p>\n",
       "                \n",
       "        <div>\n",
       "            <p><b>SparkContext</b></p>\n",
       "\n",
       "            <p><a href=\"http://192.168.146.136:4040\">Spark UI</a></p>\n",
       "\n",
       "            <dl>\n",
       "              <dt>Version</dt>\n",
       "                <dd><code>v2.4.4</code></dd>\n",
       "              <dt>Master</dt>\n",
       "                <dd><code>local[4]</code></dd>\n",
       "              <dt>AppName</dt>\n",
       "                <dd><code>mySpark</code></dd>\n",
       "            </dl>\n",
       "        </div>\n",
       "        \n",
       "            </div>\n",
       "        "
      ],
      "text/plain": [
       "<pyspark.sql.session.SparkSession at 0x7f5887e3c518>"
      ]
     },
     "execution_count": 3,
     "metadata": {},
     "output_type": "execute_result"
    }
   ],
   "source": [
    "#show the spark session initialized\n",
    "spark_Session"
   ]
  },
  {
   "cell_type": "markdown",
   "metadata": {},
   "source": [
    "### Step 02: Load the dataset and print the schema and total number of entries"
   ]
  },
  {
   "cell_type": "code",
   "execution_count": 4,
   "metadata": {},
   "outputs": [
    {
     "name": "stdout",
     "output_type": "stream",
     "text": [
      "root\n",
      " |-- Date: timestamp (nullable = true)\n",
      " |-- Location: string (nullable = true)\n",
      " |-- MinTemp: string (nullable = true)\n",
      " |-- MaxTemp: string (nullable = true)\n",
      " |-- Rainfall: string (nullable = true)\n",
      " |-- Evaporation: string (nullable = true)\n",
      " |-- Sunshine: string (nullable = true)\n",
      " |-- WindGustDir: string (nullable = true)\n",
      " |-- WindGustSpeed: string (nullable = true)\n",
      " |-- WindDir9am: string (nullable = true)\n",
      " |-- WindDir3pm: string (nullable = true)\n",
      " |-- WindSpeed9am: string (nullable = true)\n",
      " |-- WindSpeed3pm: string (nullable = true)\n",
      " |-- Humidity9am: string (nullable = true)\n",
      " |-- Humidity3pm: string (nullable = true)\n",
      " |-- Pressure9am: string (nullable = true)\n",
      " |-- Pressure3pm: string (nullable = true)\n",
      " |-- Cloud9am: string (nullable = true)\n",
      " |-- Cloud3pm: string (nullable = true)\n",
      " |-- Temp9am: string (nullable = true)\n",
      " |-- Temp3pm: string (nullable = true)\n",
      " |-- RainToday: string (nullable = true)\n",
      " |-- RainTomorrow: string (nullable = true)\n",
      "\n"
     ]
    }
   ],
   "source": [
    "# read in file\n",
    "dt = spark_Session.read.csv('weatherAUS.csv', header = True, inferSchema = True)\n",
    "dt.printSchema()"
   ]
  },
  {
   "cell_type": "code",
   "execution_count": 5,
   "metadata": {},
   "outputs": [
    {
     "data": {
      "text/plain": [
       "142193"
      ]
     },
     "execution_count": 5,
     "metadata": {},
     "output_type": "execute_result"
    }
   ],
   "source": [
    "# ptint the number of entries in the dataset\n",
    "dt.count()"
   ]
  },
  {
   "cell_type": "markdown",
   "metadata": {},
   "source": [
    "## B. Data Cleaning and Processing\n",
    "### Step 03: Delete columns from the dataset"
   ]
  },
  {
   "cell_type": "code",
   "execution_count": 6,
   "metadata": {},
   "outputs": [
    {
     "name": "stdout",
     "output_type": "stream",
     "text": [
      "+-------+-------+--------+-----------+-------------+----------+----------+------------+------------+-----------+-----------+-----------+-----------+---------+------------+\n",
      "|MinTemp|MaxTemp|Rainfall|WindGustDir|WindGustSpeed|WindDir9am|WindDir3pm|WindSpeed9am|WindSpeed3pm|Humidity9am|Humidity3pm|Pressure9am|Pressure3pm|RainToday|RainTomorrow|\n",
      "+-------+-------+--------+-----------+-------------+----------+----------+------------+------------+-----------+-----------+-----------+-----------+---------+------------+\n",
      "|   13.4|   22.9|     0.6|          W|           44|         W|       WNW|          20|          24|         71|         22|     1007.7|     1007.1|       No|          No|\n",
      "|    7.4|   25.1|       0|        WNW|           44|       NNW|       WSW|           4|          22|         44|         25|     1010.6|     1007.8|       No|          No|\n",
      "|   12.9|   25.7|       0|        WSW|           46|         W|       WSW|          19|          26|         38|         30|     1007.6|     1008.7|       No|          No|\n",
      "|    9.2|     28|       0|         NE|           24|        SE|         E|          11|           9|         45|         16|     1017.6|     1012.8|       No|          No|\n",
      "|   17.5|   32.3|       1|          W|           41|       ENE|        NW|           7|          20|         82|         33|     1010.8|       1006|       No|          No|\n",
      "|   14.6|   29.7|     0.2|        WNW|           56|         W|         W|          19|          24|         55|         23|     1009.2|     1005.4|       No|          No|\n",
      "|   14.3|     25|       0|          W|           50|        SW|         W|          20|          24|         49|         19|     1009.6|     1008.2|       No|          No|\n",
      "|    7.7|   26.7|       0|          W|           35|       SSE|         W|           6|          17|         48|         19|     1013.4|     1010.1|       No|          No|\n",
      "|    9.7|   31.9|       0|        NNW|           80|        SE|        NW|           7|          28|         42|          9|     1008.9|     1003.6|       No|         Yes|\n",
      "|   13.1|   30.1|     1.4|          W|           28|         S|       SSE|          15|          11|         58|         27|       1007|     1005.7|      Yes|          No|\n",
      "|   13.4|   30.4|       0|          N|           30|       SSE|       ESE|          17|           6|         48|         22|     1011.8|     1008.7|       No|         Yes|\n",
      "|   15.9|   21.7|     2.2|        NNE|           31|        NE|       ENE|          15|          13|         89|         91|     1010.5|     1004.2|      Yes|         Yes|\n",
      "|   15.9|   18.6|    15.6|          W|           61|       NNW|       NNW|          28|          28|         76|         93|      994.3|        993|      Yes|         Yes|\n",
      "|   12.6|     21|     3.6|         SW|           44|         W|       SSW|          24|          20|         65|         43|     1001.2|     1001.8|      Yes|          No|\n",
      "|    9.8|   27.7|      NA|        WNW|           50|        NA|       WNW|          NA|          22|         50|         28|     1013.4|     1010.3|       NA|          No|\n",
      "|   14.1|   20.9|       0|        ENE|           22|       SSW|         E|          11|           9|         69|         82|     1012.2|     1010.4|       No|         Yes|\n",
      "|   13.5|   22.9|    16.8|          W|           63|         N|       WNW|           6|          20|         80|         65|     1005.8|     1002.2|      Yes|         Yes|\n",
      "|   11.2|   22.5|    10.6|        SSE|           43|       WSW|        SW|          24|          17|         47|         32|     1009.4|     1009.7|      Yes|          No|\n",
      "|    9.8|   25.6|       0|        SSE|           26|        SE|       NNW|          17|           6|         45|         26|     1019.2|     1017.1|       No|          No|\n",
      "|   11.5|   29.3|       0|          S|           24|        SE|        SE|           9|           9|         56|         28|     1019.3|     1014.8|       No|          No|\n",
      "+-------+-------+--------+-----------+-------------+----------+----------+------------+------------+-----------+-----------+-----------+-----------+---------+------------+\n",
      "only showing top 20 rows\n",
      "\n"
     ]
    }
   ],
   "source": [
    "# collect column names for columns to be removed\n",
    "remove_list = ['Date','Location','Evaporation','Sunshine','Cloud9am','Cloud3pm','Temp9am','Temp3pm']\n",
    "\n",
    "# new dataframe with only required columns\n",
    "new_dt = dt.select([column for column in dt.columns if column not in remove_list])\n",
    "\n",
    "new_dt.show(truncate=True)"
   ]
  },
  {
   "cell_type": "markdown",
   "metadata": {},
   "source": [
    "### Step 04: Print the number of missing data in each column"
   ]
  },
  {
   "cell_type": "code",
   "execution_count": 7,
   "metadata": {},
   "outputs": [],
   "source": [
    "# define a function to detect if null value  exist in data \n",
    "def find_null(df_in):\n",
    "    checking = df_in.agg(*[F.count(F.when(F.col(c)==\"NA\",c)).alias(\"NA of \"+c) for c in df_in.columns])\n",
    "        \n",
    "    return checking"
   ]
  },
  {
   "cell_type": "code",
   "execution_count": 8,
   "metadata": {},
   "outputs": [
    {
     "name": "stdout",
     "output_type": "stream",
     "text": [
      "+-------------+-------------+--------------+-----------------+-------------------+----------------+----------------+------------------+------------------+-----------------+-----------------+-----------------+-----------------+---------------+------------------+\n",
      "|NA of MinTemp|NA of MaxTemp|NA of Rainfall|NA of WindGustDir|NA of WindGustSpeed|NA of WindDir9am|NA of WindDir3pm|NA of WindSpeed9am|NA of WindSpeed3pm|NA of Humidity9am|NA of Humidity3pm|NA of Pressure9am|NA of Pressure3pm|NA of RainToday|NA of RainTomorrow|\n",
      "+-------------+-------------+--------------+-----------------+-------------------+----------------+----------------+------------------+------------------+-----------------+-----------------+-----------------+-----------------+---------------+------------------+\n",
      "|          637|          322|          1406|             9330|               9270|           10013|            3778|              1348|              2630|             1774|             3610|            14014|            13981|           1406|                 0|\n",
      "+-------------+-------------+--------------+-----------------+-------------------+----------------+----------------+------------------+------------------+-----------------+-----------------+-----------------+-----------------+---------------+------------------+\n",
      "\n"
     ]
    }
   ],
   "source": [
    "# obtain dataframe of nulls \n",
    "check_nulls = find_null(new_dt).show()"
   ]
  },
  {
   "cell_type": "markdown",
   "metadata": {},
   "source": [
    "### Step 05:  Fill the missing data with average value and maximum occurence value"
   ]
  },
  {
   "cell_type": "code",
   "execution_count": 9,
   "metadata": {},
   "outputs": [
    {
     "name": "stdout",
     "output_type": "stream",
     "text": [
      "root\n",
      " |-- MinTemp: double (nullable = true)\n",
      " |-- MaxTemp: double (nullable = true)\n",
      " |-- Rainfall: double (nullable = true)\n",
      " |-- WindGustDir: string (nullable = true)\n",
      " |-- WindGustSpeed: integer (nullable = true)\n",
      " |-- WindDir9am: string (nullable = true)\n",
      " |-- WindDir3pm: string (nullable = true)\n",
      " |-- WindSpeed9am: integer (nullable = true)\n",
      " |-- WindSpeed3pm: integer (nullable = true)\n",
      " |-- Humidity9am: integer (nullable = true)\n",
      " |-- Humidity3pm: integer (nullable = true)\n",
      " |-- Pressure9am: double (nullable = true)\n",
      " |-- Pressure3pm: double (nullable = true)\n",
      " |-- RainToday: string (nullable = true)\n",
      " |-- RainTomorrow: string (nullable = true)\n",
      "\n"
     ]
    }
   ],
   "source": [
    "# read in data again and set the null value parameters\n",
    "dt = spark_Session.read.csv('weatherAUS.csv', header = True, inferSchema = True, nullValue=\"NA\")\n",
    "new_dt2 = dt.select([column for column in dt.columns if column not in remove_list])\n",
    "new_dt2.printSchema()"
   ]
  },
  {
   "cell_type": "code",
   "execution_count": 10,
   "metadata": {},
   "outputs": [
    {
     "data": {
      "text/plain": [
       "['WindGustDir', 'WindDir9am', 'WindDir3pm', 'RainToday', 'RainTomorrow']"
      ]
     },
     "execution_count": 10,
     "metadata": {},
     "output_type": "execute_result"
    }
   ],
   "source": [
    "# select only numeric columns from the dataframe copy\n",
    "# get row names into a list\n",
    "str_data = [x[0] for x in new_dt2.dtypes if x[1]=='string']\n",
    "str_data"
   ]
  },
  {
   "cell_type": "code",
   "execution_count": 11,
   "metadata": {},
   "outputs": [],
   "source": [
    "# define another function for finding NA\n",
    "# define a function to detect if null value  exist in data \n",
    "def find_null2(df_in):\n",
    "    checking = df_in.agg(*[F.count(F.when(F.col(c).isNull(),c)).alias(c) for c in df_in.columns])\n",
    "        \n",
    "    return checking"
   ]
  },
  {
   "cell_type": "code",
   "execution_count": 12,
   "metadata": {},
   "outputs": [],
   "source": [
    "# define a function to fill na with mean\n",
    "def fill_mean(df_in, exclusion=set()):\n",
    "    \n",
    "    stat_sel = df_in.agg(*(F.avg(c).alias(c) for c in df_in.columns if c not in exclusion))\n",
    "    return df_in.na.fill(stat_sel.first().asDict())\n"
   ]
  },
  {
   "cell_type": "code",
   "execution_count": 13,
   "metadata": {},
   "outputs": [
    {
     "name": "stdout",
     "output_type": "stream",
     "text": [
      "-RECORD 0---------------\n",
      " MinTemp       | 13.4   \n",
      " MaxTemp       | 22.9   \n",
      " Rainfall      | 0.6    \n",
      " WindGustDir   | W      \n",
      " WindGustSpeed | 44     \n",
      " WindDir9am    | W      \n",
      " WindDir3pm    | WNW    \n",
      " WindSpeed9am  | 20     \n",
      " WindSpeed3pm  | 24     \n",
      " Humidity9am   | 71     \n",
      " Humidity3pm   | 22     \n",
      " Pressure9am   | 1007.7 \n",
      " Pressure3pm   | 1007.1 \n",
      " RainToday     | No     \n",
      " RainTomorrow  | No     \n",
      "only showing top 1 row\n",
      "\n"
     ]
    }
   ],
   "source": [
    "# apply the fill na with mean function to the dataframe\n",
    "new_dt3 = fill_mean(new_dt2,str_data)\n",
    "# new_dt3.show(1 , vertical = True)"
   ]
  },
  {
   "cell_type": "code",
   "execution_count": 14,
   "metadata": {},
   "outputs": [
    {
     "name": "stdout",
     "output_type": "stream",
     "text": [
      "DataFrame[WindGustDir: string, count: bigint]\n",
      "W\n",
      "DataFrame[WindDir9am: string, count: bigint]\n",
      "N\n",
      "DataFrame[WindDir3pm: string, count: bigint]\n",
      "SE\n",
      "DataFrame[RainToday: string, count: bigint]\n",
      "No\n",
      "DataFrame[RainTomorrow: string, count: bigint]\n",
      "No\n"
     ]
    }
   ],
   "source": [
    "# fill data with most frequent data \n",
    "for col in str_data:\n",
    "    #find most frequent count for each column\n",
    "    fill_group = new_dt3.select(col).groupBy(col).count().orderBy('count',ascending=False)\n",
    "    # show which column's null is filled\n",
    "    print(fill_group)\n",
    "    fill_value = fill_group.select(col).collect()[0][0]\n",
    "    # show what value is filled for the selected column\n",
    "    print(fill_value)\n",
    "    # fill column with dictionary \n",
    "    new_dt3 = new_dt3.na.fill({col: fill_value})"
   ]
  },
  {
   "cell_type": "code",
   "execution_count": 15,
   "metadata": {},
   "outputs": [
    {
     "name": "stdout",
     "output_type": "stream",
     "text": [
      "-RECORD 0------------\n",
      " MinTemp       | 0   \n",
      " MaxTemp       | 0   \n",
      " Rainfall      | 0   \n",
      " WindGustDir   | 0   \n",
      " WindGustSpeed | 0   \n",
      " WindDir9am    | 0   \n",
      " WindDir3pm    | 0   \n",
      " WindSpeed9am  | 0   \n",
      " WindSpeed3pm  | 0   \n",
      " Humidity9am   | 0   \n",
      " Humidity3pm   | 0   \n",
      " Pressure9am   | 0   \n",
      " Pressure3pm   | 0   \n",
      " RainToday     | 0   \n",
      " RainTomorrow  | 0   \n",
      "\n"
     ]
    }
   ],
   "source": [
    "# check nulls again with the check null function\n",
    "check_dt = find_null2(new_dt3).show(vertical = True)\n"
   ]
  },
  {
   "cell_type": "code",
   "execution_count": null,
   "metadata": {},
   "outputs": [],
   "source": []
  },
  {
   "cell_type": "markdown",
   "metadata": {},
   "source": [
    "### Step 06: Data Transformation"
   ]
  },
  {
   "cell_type": "code",
   "execution_count": 17,
   "metadata": {},
   "outputs": [],
   "source": [
    "from pyspark.ml import Pipeline\n",
    "from pyspark.ml.feature import StringIndexer\n",
    "from pyspark.sql.types import DoubleType"
   ]
  },
  {
   "cell_type": "code",
   "execution_count": 18,
   "metadata": {},
   "outputs": [
    {
     "data": {
      "text/plain": [
       "[('MinTemp', 'double'),\n",
       " ('MaxTemp', 'double'),\n",
       " ('Rainfall', 'double'),\n",
       " ('WindGustDir', 'string'),\n",
       " ('WindGustSpeed', 'int'),\n",
       " ('WindDir9am', 'string'),\n",
       " ('WindDir3pm', 'string'),\n",
       " ('WindSpeed9am', 'int'),\n",
       " ('WindSpeed3pm', 'int'),\n",
       " ('Humidity9am', 'int'),\n",
       " ('Humidity3pm', 'int'),\n",
       " ('Pressure9am', 'double'),\n",
       " ('Pressure3pm', 'double'),\n",
       " ('RainToday', 'string'),\n",
       " ('RainTomorrow', 'string')]"
      ]
     },
     "execution_count": 18,
     "metadata": {},
     "output_type": "execute_result"
    }
   ],
   "source": [
    "# check data types in dataframe\n",
    "new_dt3.dtypes"
   ]
  },
  {
   "cell_type": "code",
   "execution_count": 19,
   "metadata": {},
   "outputs": [],
   "source": [
    "# get list of integer columns\n",
    "int_data = [x[0] for x in new_dt3.dtypes if x[1]=='int']"
   ]
  },
  {
   "cell_type": "code",
   "execution_count": 20,
   "metadata": {},
   "outputs": [],
   "source": [
    "# cast integer columns to double \n",
    "for colx in int_data: \n",
    "    new_dt3 = new_dt3.withColumn(colx, new_dt3[colx].cast(DoubleType()))"
   ]
  },
  {
   "cell_type": "code",
   "execution_count": 21,
   "metadata": {},
   "outputs": [],
   "source": [
    "# initialise stringindexer\n",
    "indexers = [StringIndexer(inputCol=cols, outputCol=cols+\"Index\").fit(new_dt3) for cols in list(str_data)]\n",
    "# use pipelines to fit the dataframe\n",
    "pipelines = Pipeline(stages=indexers)\n",
    "# cast string column to new columns of doubles\n",
    "trans_dt = pipelines.fit(new_dt3).transform(new_dt3)\n",
    "# trans_dt.show(vertical=True)\n"
   ]
  },
  {
   "cell_type": "code",
   "execution_count": 22,
   "metadata": {},
   "outputs": [
    {
     "name": "stdout",
     "output_type": "stream",
     "text": [
      "root\n",
      " |-- MinTemp: double (nullable = false)\n",
      " |-- MaxTemp: double (nullable = false)\n",
      " |-- Rainfall: double (nullable = false)\n",
      " |-- WindGustDir: string (nullable = false)\n",
      " |-- WindGustSpeed: double (nullable = true)\n",
      " |-- WindDir9am: string (nullable = false)\n",
      " |-- WindDir3pm: string (nullable = false)\n",
      " |-- WindSpeed9am: double (nullable = true)\n",
      " |-- WindSpeed3pm: double (nullable = true)\n",
      " |-- Humidity9am: double (nullable = true)\n",
      " |-- Humidity3pm: double (nullable = true)\n",
      " |-- Pressure9am: double (nullable = false)\n",
      " |-- Pressure3pm: double (nullable = false)\n",
      " |-- RainToday: string (nullable = false)\n",
      " |-- RainTomorrow: string (nullable = false)\n",
      " |-- WindGustDirIndex: double (nullable = false)\n",
      " |-- WindDir9amIndex: double (nullable = false)\n",
      " |-- WindDir3pmIndex: double (nullable = false)\n",
      " |-- RainTodayIndex: double (nullable = false)\n",
      " |-- RainTomorrowIndex: double (nullable = false)\n",
      "\n"
     ]
    }
   ],
   "source": [
    "# check data type after casting\n",
    "trans_dt.printSchema()"
   ]
  },
  {
   "cell_type": "code",
   "execution_count": null,
   "metadata": {},
   "outputs": [],
   "source": []
  },
  {
   "cell_type": "markdown",
   "metadata": {},
   "source": [
    "### Step 07: Create the feature vector and divide the dataset"
   ]
  },
  {
   "cell_type": "code",
   "execution_count": 23,
   "metadata": {},
   "outputs": [],
   "source": [
    "# import features from library\n",
    "from pyspark.ml.feature import VectorAssembler"
   ]
  },
  {
   "cell_type": "code",
   "execution_count": 24,
   "metadata": {},
   "outputs": [
    {
     "data": {
      "text/plain": [
       "[('MinTemp', 'double'),\n",
       " ('MaxTemp', 'double'),\n",
       " ('Rainfall', 'double'),\n",
       " ('WindGustDir', 'string'),\n",
       " ('WindGustSpeed', 'double'),\n",
       " ('WindDir9am', 'string'),\n",
       " ('WindDir3pm', 'string'),\n",
       " ('WindSpeed9am', 'double'),\n",
       " ('WindSpeed3pm', 'double'),\n",
       " ('Humidity9am', 'double'),\n",
       " ('Humidity3pm', 'double'),\n",
       " ('Pressure9am', 'double'),\n",
       " ('Pressure3pm', 'double'),\n",
       " ('RainToday', 'string'),\n",
       " ('RainTomorrow', 'string'),\n",
       " ('WindGustDirIndex', 'double'),\n",
       " ('WindDir9amIndex', 'double'),\n",
       " ('WindDir3pmIndex', 'double'),\n",
       " ('RainTodayIndex', 'double'),\n",
       " ('RainTomorrowIndex', 'double')]"
      ]
     },
     "execution_count": 24,
     "metadata": {},
     "output_type": "execute_result"
    }
   ],
   "source": [
    "# obtain the tuple list of dataframe\n",
    "trans_dt.dtypes"
   ]
  },
  {
   "cell_type": "code",
   "execution_count": 25,
   "metadata": {},
   "outputs": [
    {
     "data": {
      "text/plain": [
       "['WindGustDir', 'WindDir9am', 'WindDir3pm', 'RainToday', 'RainTomorrow']"
      ]
     },
     "execution_count": 25,
     "metadata": {},
     "output_type": "execute_result"
    }
   ],
   "source": [
    "# define the name list of columns to be removed\n",
    "rm_list = [x[0] for x in trans_dt.dtypes if x[1]=='string']\n",
    "rm_list"
   ]
  },
  {
   "cell_type": "code",
   "execution_count": 26,
   "metadata": {},
   "outputs": [
    {
     "name": "stdout",
     "output_type": "stream",
     "text": [
      "+-------+-------+--------+-------------+------------+------------+-----------+-----------+-----------+-----------+----------------+---------------+---------------+--------------+-----------------+\n",
      "|MinTemp|MaxTemp|Rainfall|WindGustSpeed|WindSpeed9am|WindSpeed3pm|Humidity9am|Humidity3pm|Pressure9am|Pressure3pm|WindGustDirIndex|WindDir9amIndex|WindDir3pmIndex|RainTodayIndex|RainTomorrowIndex|\n",
      "+-------+-------+--------+-------------+------------+------------+-----------+-----------+-----------+-----------+----------------+---------------+---------------+--------------+-----------------+\n",
      "|   13.4|   22.9|     0.6|         44.0|        20.0|        24.0|       71.0|       22.0|     1007.7|     1007.1|             0.0|            6.0|            7.0|           0.0|              0.0|\n",
      "|    7.4|   25.1|     0.0|         44.0|         4.0|        22.0|       44.0|       25.0|     1010.6|     1007.8|             9.0|            9.0|            3.0|           0.0|              0.0|\n",
      "|   12.9|   25.7|     0.0|         46.0|        19.0|        26.0|       38.0|       30.0|     1007.6|     1008.7|             6.0|            6.0|            3.0|           0.0|              0.0|\n",
      "+-------+-------+--------+-------------+------------+------------+-----------+-----------+-----------+-----------+----------------+---------------+---------------+--------------+-----------------+\n",
      "only showing top 3 rows\n",
      "\n"
     ]
    }
   ],
   "source": [
    "# select the columns for features\n",
    "vec_df = trans_dt.select([x for x in trans_dt.columns if x not in rm_list])\n",
    "vec_df.show(3)"
   ]
  },
  {
   "cell_type": "code",
   "execution_count": 27,
   "metadata": {},
   "outputs": [],
   "source": [
    "# select the column names to be featured\n",
    "vec_cols = vec_df.columns\n",
    "# exclude RainTomorrowIndex from features\n",
    "vec_cols.remove('RainTomorrowIndex')"
   ]
  },
  {
   "cell_type": "code",
   "execution_count": 28,
   "metadata": {},
   "outputs": [
    {
     "data": {
      "text/plain": [
       "['MinTemp',\n",
       " 'MaxTemp',\n",
       " 'Rainfall',\n",
       " 'WindGustSpeed',\n",
       " 'WindSpeed9am',\n",
       " 'WindSpeed3pm',\n",
       " 'Humidity9am',\n",
       " 'Humidity3pm',\n",
       " 'Pressure9am',\n",
       " 'Pressure3pm',\n",
       " 'WindGustDirIndex',\n",
       " 'WindDir9amIndex',\n",
       " 'WindDir3pmIndex',\n",
       " 'RainTodayIndex']"
      ]
     },
     "execution_count": 28,
     "metadata": {},
     "output_type": "execute_result"
    }
   ],
   "source": [
    "# check the columns to be featurized\n",
    "vec_cols"
   ]
  },
  {
   "cell_type": "code",
   "execution_count": 29,
   "metadata": {},
   "outputs": [
    {
     "name": "stdout",
     "output_type": "stream",
     "text": [
      "+-------+-------+--------+-------------+------------+------------+-----------+-----------+-----------+-----------+----------------+---------------+---------------+--------------+-----------------+----------------------------------------------------------------------+\n",
      "|MinTemp|MaxTemp|Rainfall|WindGustSpeed|WindSpeed9am|WindSpeed3pm|Humidity9am|Humidity3pm|Pressure9am|Pressure3pm|WindGustDirIndex|WindDir9amIndex|WindDir3pmIndex|RainTodayIndex|RainTomorrowIndex|features                                                              |\n",
      "+-------+-------+--------+-------------+------------+------------+-----------+-----------+-----------+-----------+----------------+---------------+---------------+--------------+-----------------+----------------------------------------------------------------------+\n",
      "|13.4   |22.9   |0.6     |44.0         |20.0        |24.0        |71.0       |22.0       |1007.7     |1007.1     |0.0             |6.0            |7.0            |0.0           |0.0              |[13.4,22.9,0.6,44.0,20.0,24.0,71.0,22.0,1007.7,1007.1,0.0,6.0,7.0,0.0]|\n",
      "|7.4    |25.1   |0.0     |44.0         |4.0         |22.0        |44.0       |25.0       |1010.6     |1007.8     |9.0             |9.0            |3.0            |0.0           |0.0              |[7.4,25.1,0.0,44.0,4.0,22.0,44.0,25.0,1010.6,1007.8,9.0,9.0,3.0,0.0]  |\n",
      "|12.9   |25.7   |0.0     |46.0         |19.0        |26.0        |38.0       |30.0       |1007.6     |1008.7     |6.0             |6.0            |3.0            |0.0           |0.0              |[12.9,25.7,0.0,46.0,19.0,26.0,38.0,30.0,1007.6,1008.7,6.0,6.0,3.0,0.0]|\n",
      "+-------+-------+--------+-------------+------------+------------+-----------+-----------+-----------+-----------+----------------+---------------+---------------+--------------+-----------------+----------------------------------------------------------------------+\n",
      "only showing top 3 rows\n",
      "\n"
     ]
    }
   ],
   "source": [
    "# use VectorAssmbler to genearte vectors\n",
    "featured = VectorAssembler(inputCols = vec_cols, outputCol = \"features\")\n",
    "\n",
    "featured_hash = featured.transform(vec_df)\n",
    "featured_hash.show(3, truncate=False)"
   ]
  },
  {
   "cell_type": "code",
   "execution_count": 30,
   "metadata": {},
   "outputs": [
    {
     "name": "stdout",
     "output_type": "stream",
     "text": [
      "+-----------------+----------------------------------------------------------------------+\n",
      "|RainTomorrowIndex|features                                                              |\n",
      "+-----------------+----------------------------------------------------------------------+\n",
      "|0.0              |[13.4,22.9,0.6,44.0,20.0,24.0,71.0,22.0,1007.7,1007.1,0.0,6.0,7.0,0.0]|\n",
      "|0.0              |[7.4,25.1,0.0,44.0,4.0,22.0,44.0,25.0,1010.6,1007.8,9.0,9.0,3.0,0.0]  |\n",
      "|0.0              |[12.9,25.7,0.0,46.0,19.0,26.0,38.0,30.0,1007.6,1008.7,6.0,6.0,3.0,0.0]|\n",
      "+-----------------+----------------------------------------------------------------------+\n",
      "only showing top 3 rows\n",
      "\n"
     ]
    }
   ],
   "source": [
    "# select feature columns\n",
    "feature_cols = featured_hash.select(['RainTomorrowIndex', 'features'])\n",
    "feature_cols.show(3, truncate = False)"
   ]
  },
  {
   "cell_type": "code",
   "execution_count": 33,
   "metadata": {},
   "outputs": [
    {
     "name": "stdout",
     "output_type": "stream",
     "text": [
      "+-----------------+-------------------------------------------------------------------------------------------------------+\n",
      "|RainTomorrowIndex|features                                                                                               |\n",
      "+-----------------+-------------------------------------------------------------------------------------------------------+\n",
      "|0.0              |(14,[0,1,2,3,6,7,8,9],[4.9,19.8,0.1,39.0,81.0,47.0,1017.6537584159615,1015.2582035378894])             |\n",
      "|0.0              |(14,[0,1,2,3,6,7,8,9],[5.5,19.2,0.2,39.0,93.0,75.0,1017.6537584159615,1015.2582035378894])             |\n",
      "|0.0              |(14,[0,1,2,3,6,7,8,9],[5.5,23.2267841912725,0.4,39.0,100.0,65.0,1017.6537584159615,1015.2582035378894])|\n",
      "+-----------------+-------------------------------------------------------------------------------------------------------+\n",
      "only showing top 3 rows\n",
      "\n"
     ]
    }
   ],
   "source": [
    "# data split with seed set\n",
    "(train_data, test_data) = feature_cols.randomSplit([0.7,0.3], seed = 2000)\n",
    "train_data.show(3, truncate = False)"
   ]
  },
  {
   "cell_type": "markdown",
   "metadata": {},
   "source": [
    "In the selected column \"RainTomorrowIndex\", the number 0 and 1 are index of the predicted weather for the next day, where 0 means 'not rain' and 1 means 'rain'. "
   ]
  },
  {
   "cell_type": "markdown",
   "metadata": {},
   "source": [
    "## C. Apply Machine Learning Algorithms \n",
    "\n",
    "### Step 08: Apply machine learning classification algorithms on the dataset and compare their accuracy. Plot the accuracy as bar graph"
   ]
  },
  {
   "cell_type": "code",
   "execution_count": 35,
   "metadata": {},
   "outputs": [],
   "source": [
    "from pyspark.ml.classification import DecisionTreeClassifier, RandomForestClassifier, LogisticRegression, GBTClassifier\n",
    "from pyspark.ml.evaluation import MulticlassClassificationEvaluator\n",
    "from matplotlib import pyplot as plt"
   ]
  },
  {
   "cell_type": "code",
   "execution_count": 45,
   "metadata": {},
   "outputs": [],
   "source": [
    "# define evaluator\n",
    "evaluator = MulticlassClassificationEvaluator(labelCol=\"RainTomorrowIndex\", predictionCol=\"prediction\",\\\n",
    "                                                 metricName=\"accuracy\")"
   ]
  },
  {
   "cell_type": "code",
   "execution_count": 46,
   "metadata": {},
   "outputs": [],
   "source": [
    "# initialize the input list for y axis to bar chart\n",
    "count_list = []"
   ]
  },
  {
   "cell_type": "markdown",
   "metadata": {},
   "source": [
    "####  probability with DecisionTreeClassifier"
   ]
  },
  {
   "cell_type": "code",
   "execution_count": 47,
   "metadata": {},
   "outputs": [],
   "source": [
    "# Decision Tree Classifier Accuracy\n",
    "# Initialize the decesiontree classifier\n",
    "dt_cls = DecisionTreeClassifier(labelCol=\"RainTomorrowIndex\")\n",
    "dt_models = dt_cls.fit(train_data)\n",
    "dt_pred = dt_models.transform(test_data)\n",
    "# get accuracy \n",
    "dt_accuracy = evaluator.evaluate(dt_pred)\n",
    "# add the value to count_list\n",
    "count_list.append(dt_accuracy)\n"
   ]
  },
  {
   "cell_type": "markdown",
   "metadata": {},
   "source": [
    "#### probability with RandomForestClassifier"
   ]
  },
  {
   "cell_type": "code",
   "execution_count": 48,
   "metadata": {},
   "outputs": [],
   "source": [
    "# Random Forest Classifier Accuracy\n",
    "# Initialize the Random Forest classifier\n",
    "rf_cls = RandomForestClassifier(labelCol=\"RainTomorrowIndex\")\n",
    "rf_models = rf_cls.fit(train_data)\n",
    "rf_pred = rf_models.transform(test_data)\n",
    "# get accuracy \n",
    "rf_accuracy = evaluator.evaluate(rf_pred)\n",
    "# add the value to count_list\n",
    "count_list.append(rf_accuracy)\n"
   ]
  },
  {
   "cell_type": "markdown",
   "metadata": {},
   "source": [
    "#### probability with Logistic Regression"
   ]
  },
  {
   "cell_type": "code",
   "execution_count": 49,
   "metadata": {},
   "outputs": [],
   "source": [
    "# Logistic Regression Classifier Accuracy\n",
    "# Initialize the Logistic Regression classifier\n",
    "lr_cls = LogisticRegression(labelCol=\"RainTomorrowIndex\")\n",
    "lr_models = lr_cls.fit(train_data)\n",
    "lr_pred = lr_models.transform(test_data)\n",
    "# get accuracy \n",
    "lr_accuracy = evaluator.evaluate(lr_pred)\n",
    "# add the value to count_list\n",
    "count_list.append(lr_accuracy)"
   ]
  },
  {
   "cell_type": "markdown",
   "metadata": {},
   "source": [
    "#### probability with GBTClassifier"
   ]
  },
  {
   "cell_type": "code",
   "execution_count": 54,
   "metadata": {},
   "outputs": [],
   "source": [
    "# GBT Classifier Accuracy\n",
    "# Initialize the GBT classifier\n",
    "gbt_cls = GBTClassifier(labelCol=\"RainTomorrowIndex\")\n",
    "gbt_models = gbt_cls.fit(train_data)\n",
    "gbt_pred = gbt_models.transform(test_data)\n",
    "# get accuracy \n",
    "gbt_accuracy = evaluator.evaluate(gbt_pred)\n",
    "# add the value to count_list\n",
    "count_list.append(gbt_accuracy)\n"
   ]
  },
  {
   "cell_type": "code",
   "execution_count": 51,
   "metadata": {},
   "outputs": [
    {
     "data": {
      "text/plain": [
       "[0.8347401988369911, 0.836147064340649, 0.8382104670793472, 0.8446351528793847]"
      ]
     },
     "execution_count": 51,
     "metadata": {},
     "output_type": "execute_result"
    }
   ],
   "source": [
    "# show accuracy for all classifiers\n",
    "count_list"
   ]
  },
  {
   "cell_type": "code",
   "execution_count": 52,
   "metadata": {},
   "outputs": [
    {
     "data": {
      "text/plain": [
       "Text(0.5, 1.0, 'Accuracy of Different Classifiers')"
      ]
     },
     "execution_count": 52,
     "metadata": {},
     "output_type": "execute_result"
    },
    {
     "data": {
      "image/png": "[encoded data removed]",
      "text/plain": [
       "<Figure size 432x288 with 1 Axes>"
      ]
     },
     "metadata": {
      "needs_background": "light"
     },
     "output_type": "display_data"
    }
   ],
   "source": [
    "# prepare data for plottiing\n",
    "class_list = ['DecisionTreeClassifier', 'RandomForestClassifier', 'LogisticRegression', 'GBTClassifier']\n",
    "\n",
    "# plot data with bar chart\n",
    "plt.bar(class_list, count_list, color = '#ffa34d')\n",
    "plt.ylim(0.831, 0.848)\n",
    "plt.xlabel(\"Name of Classifier\")\n",
    "plt.xticks(class_list,rotation=-45)\n",
    "plt.ylabel(\"Accuracy of Classifier\")\n",
    "plt.title(\"Accuracy of Different Classifiers\")"
   ]
  },
  {
   "cell_type": "markdown",
   "metadata": {},
   "source": [
    "### Step 09: Calculate confusion matrix and find precision, recall and F1 score for each classification algorithm "
   ]
  },
  {
   "cell_type": "code",
   "execution_count": 55,
   "metadata": {},
   "outputs": [],
   "source": [
    "from pyspark.mllib.evaluation import MulticlassMetrics"
   ]
  },
  {
   "cell_type": "markdown",
   "metadata": {},
   "source": [
    "#### Confusion matrix  and values for Decision Tree"
   ]
  },
  {
   "cell_type": "code",
   "execution_count": 56,
   "metadata": {},
   "outputs": [
    {
     "name": "stdout",
     "output_type": "stream",
     "text": [
      "[[31816.  1359.]\n",
      " [ 5689.  3784.]]\n"
     ]
    }
   ],
   "source": [
    "# get values for confusion matrix\n",
    "dt_cal = dt_pred.rdd.map(lambda x: (x[\"prediction\"], x[\"RainTomorrowIndex\"]))\n",
    "\n",
    "# calculate confusion matrix\n",
    "dt_met = MulticlassMetrics(dt_cal)\n",
    "dt_confMatx = dt_met.confusionMatrix()\n",
    "# transform the confusion matrix to array\n",
    "dt_array = dt_confMatx.toArray()\n",
    "print(dt_array)\n"
   ]
  },
  {
   "cell_type": "code",
   "execution_count": 59,
   "metadata": {},
   "outputs": [
    {
     "name": "stdout",
     "output_type": "stream",
     "text": [
      "Precision of Decision Tree Classifier is 0.8483135581922411.\n",
      "Recall of Decision Tree Classifier is 0.959035418236624.\n",
      "F1 value of Decision Tree Classifier is 0.9002829654782117.\n"
     ]
    }
   ],
   "source": [
    "# calculate precision values, recall values, and F1 for decision tree classifier\n",
    "dt_precision =dt_array[0][0]/(dt_array[0][0]+dt_array[1][0])\n",
    "print(\"Precision of Decision Tree Classifier is \" + str(dt_precision)+'.')\n",
    "\n",
    "# calculate recall values\n",
    "dt_recall = dt_array[0][0]/(dt_array[0][0]+dt_array[0][1])\n",
    "print(\"Recall of Decision Tree Classifier is \" + str(dt_recall) + '.')\n",
    "\n",
    "# calculate F1 values\n",
    "dt_f1 = dt_precision*dt_recall/(dt_precision + dt_recall)*2\n",
    "print(\"F1 value of Decision Tree Classifier is \" + str(dt_f1) + '.')"
   ]
  },
  {
   "cell_type": "markdown",
   "metadata": {},
   "source": [
    "#### Confusion matrix and values for Random Forest"
   ]
  },
  {
   "cell_type": "code",
   "execution_count": 61,
   "metadata": {},
   "outputs": [
    {
     "name": "stdout",
     "output_type": "stream",
     "text": [
      "[[32069.  1106.]\n",
      " [ 5882.  3591.]]\n"
     ]
    }
   ],
   "source": [
    "# get values for confusion matrix\n",
    "rf_cal = rf_pred.rdd.map(lambda x: (x[\"prediction\"], x[\"RainTomorrowIndex\"]))\n",
    "\n",
    "# calculate confusion matrix\n",
    "rf_met = MulticlassMetrics(rf_cal)\n",
    "rf_confMatx = rf_met.confusionMatrix()\n",
    "# transform the confusion matrix to array\n",
    "rf_array = rf_confMatx.toArray()\n",
    "print(rf_array)\n"
   ]
  },
  {
   "cell_type": "code",
   "execution_count": 62,
   "metadata": {},
   "outputs": [
    {
     "name": "stdout",
     "output_type": "stream",
     "text": [
      "Precision of Random Forest Classifier is 0.8450106716555559.\n",
      "Recall of Random Forest Classifier is 0.9666616428033158.\n",
      "F1 value of Random Forest Classifier is 0.9017518207125383.\n"
     ]
    }
   ],
   "source": [
    "# calculate precision values, recall values, and F1 for Random Forest classifier\n",
    "rf_precision =rf_array[0][0]/(rf_array[0][0]+ rf_array[1][0])\n",
    "print(\"Precision of Random Forest Classifier is \" + str(rf_precision)+'.')\n",
    "\n",
    "# calculate recall values\n",
    "rf_recall = rf_array[0][0]/(rf_array[0][0]+ rf_array[0][1])\n",
    "print(\"Recall of Random Forest Classifier is \" + str(rf_recall) + '.')\n",
    "\n",
    "# calculate F1 values\n",
    "rf_f1 = rf_precision*rf_recall/(rf_precision + rf_recall)*2\n",
    "print(\"F1 value of Random Forest Classifier is \" + str(rf_f1) + '.')"
   ]
  },
  {
   "cell_type": "markdown",
   "metadata": {},
   "source": [
    "#### Confusion matrix and values for Logistic Regression"
   ]
  },
  {
   "cell_type": "code",
   "execution_count": 63,
   "metadata": {},
   "outputs": [
    {
     "name": "stdout",
     "output_type": "stream",
     "text": [
      "[[32069.  1106.]\n",
      " [ 5882.  3591.]]\n"
     ]
    }
   ],
   "source": [
    "# get values for confusion matrix\n",
    "lr_cal = rf_pred.rdd.map(lambda x: (x[\"prediction\"], x[\"RainTomorrowIndex\"]))\n",
    "\n",
    "# calculate confusion matrix\n",
    "lr_met = MulticlassMetrics(lr_cal)\n",
    "lr_confMatx = lr_met.confusionMatrix()\n",
    "# transform the confusion matrix to array\n",
    "lr_array = lr_confMatx.toArray()\n",
    "print(lr_array)"
   ]
  },
  {
   "cell_type": "code",
   "execution_count": 65,
   "metadata": {},
   "outputs": [
    {
     "name": "stdout",
     "output_type": "stream",
     "text": [
      "Precision of Logistic Regression is 0.8450106716555559.\n",
      "Recall of Logistic Regression is 0.9666616428033158.\n",
      "F1 value of Logistic Regression is 0.9017518207125383.\n"
     ]
    }
   ],
   "source": [
    "# calculate precision values, recall values, and F1 for Logistic Regression\n",
    "lr_precision =lr_array[0][0]/(lr_array[0][0]+ lr_array[1][0])\n",
    "print(\"Precision of Logistic Regression is \" + str(rf_precision)+'.')\n",
    "\n",
    "# calculate recall values\n",
    "lr_recall = lr_array[0][0]/(lr_array[0][0]+ lr_array[0][1])\n",
    "print(\"Recall of Logistic Regression is \" + str(lr_recall) + '.')\n",
    "\n",
    "# calculate F1 values\n",
    "lr_f1 = lr_precision*lr_recall/(lr_precision + lr_recall)*2\n",
    "print(\"F1 value of Logistic Regression is \" + str(lr_f1) + '.')"
   ]
  },
  {
   "cell_type": "markdown",
   "metadata": {},
   "source": [
    "#### Confusion matrix  and values for GBT"
   ]
  },
  {
   "cell_type": "code",
   "execution_count": 66,
   "metadata": {},
   "outputs": [
    {
     "name": "stdout",
     "output_type": "stream",
     "text": [
      "[[31597.  1578.]\n",
      " [ 5048.  4425.]]\n"
     ]
    }
   ],
   "source": [
    "# get values for confusion matrix\n",
    "gbt_cal = gbt_pred.rdd.map(lambda x: (x[\"prediction\"], x[\"RainTomorrowIndex\"]))\n",
    "\n",
    "# calculate confusion matrix\n",
    "gbt_met = MulticlassMetrics(gbt_cal)\n",
    "gbt_confMatx = gbt_met.confusionMatrix()\n",
    "# transform the confusion matrix to array\n",
    "gbt_array = gbt_confMatx.toArray()\n",
    "print(gbt_array)"
   ]
  },
  {
   "cell_type": "code",
   "execution_count": 67,
   "metadata": {},
   "outputs": [
    {
     "name": "stdout",
     "output_type": "stream",
     "text": [
      "Precision of Random Forest Classifier is 0.8622458725610588.\n",
      "Recall of Random Forest Classifier is 0.9666616428033158.\n",
      "F1 value of Random Forest Classifier is 0.9050988255514179.\n"
     ]
    }
   ],
   "source": [
    "# calculate precision values, recall values, and F1 for GBT classifier\n",
    "gbt_precision =gbt_array[0][0]/(gbt_array[0][0]+ gbt_array[1][0])\n",
    "print(\"Precision of GBT Classifier is \" + str(gbt_precision)+'.')\n",
    "\n",
    "# calculate recall values\n",
    "gbt_recall = gbt_array[0][0]/(gbt_array[0][0]+ gbt_array[0][1])\n",
    "print(\"Recall of GBT Classifier is \" + str(rf_recall) + '.')\n",
    "\n",
    "# calculate F1 values\n",
    "gbt_f1 = gbt_precision*gbt_recall/(gbt_precision + gbt_recall)*2\n",
    "print(\"F1 value of GBT Classifier is \" + str(gbt_f1) + '.')"
   ]
  },
  {
   "cell_type": "markdown",
   "metadata": {},
   "source": [
    "### improve accuracy\n",
    "A few ways can be used to improve the accuracy of predictions. \n",
    "\n",
    "Firstly, more data can be included in sample to give more data to the model be trained with. \n",
    "\n",
    "Secondly, the way of filling null values in columns may need some reconsideration. In the process above, the numeric columns are filled with means, which will increase the centralisation of data. Meanwhile, using the most frequent values to fill string columns will lead the result to the extreme by exagerating the most frequent values.\n",
    "\n",
    "Last but not the least, filter the columns to be featured to help train the models. Some of the features may be noise in data, which can possibly lower the accuracy of prediction \n",
    "\n"
   ]
  },
  {
   "cell_type": "markdown",
   "metadata": {},
   "source": [
    "References:\n",
    "\n"
   ]
  }
 ],
 "metadata": {
  "kernelspec": {
   "display_name": "Python 3",
   "language": "python",
   "name": "python3"
  },
  "language_info": {
   "codemirror_mode": {
    "name": "ipython",
    "version": 3
   },
   "file_extension": ".py",
   "mimetype": "text/x-python",
   "name": "python",
   "nbconvert_exporter": "python",
   "pygments_lexer": "ipython3",
   "version": "3.6.8"
  }
 },
 "nbformat": 4,
 "nbformat_minor": 2
}
